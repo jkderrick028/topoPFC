{
 "cells": [
  {
   "cell_type": "code",
   "execution_count": 1,
   "metadata": {},
   "outputs": [],
   "source": [
    "import numpy as np \n",
    "import matplotlib.pyplot as plt\n",
    "import scipy \n",
    "import seaborn as sns "
   ]
  },
  {
   "cell_type": "code",
   "execution_count": 2,
   "metadata": {},
   "outputs": [],
   "source": [
    "def sqmat2vec(sqmat, upperORlower='upper'):\n",
    "    \"\"\"\n",
    "    extracts the upper or lower triangular part of a square matrix and return as a vector\n",
    "\n",
    "    \"\"\"\n",
    "\n",
    "    if upperORlower == 'upper':\n",
    "        coords = np.where(np.triu(np.ones(sqmat.shape), k=1) > 0)\n",
    "    else:\n",
    "        coords = np.where(np.tril(np.ones(sqmat.shape), k=1) > 0)\n",
    "\n",
    "    vec = sqmat[coords]\n",
    "    return vec"
   ]
  },
  {
   "cell_type": "code",
   "execution_count": 3,
   "metadata": {},
   "outputs": [],
   "source": [
    "K1 = 30     # conditions for projection 1 \n",
    "K2 = 20     # conditions for projection 2  \n",
    "N1 = 8000   # number of time points for data 1\n",
    "N2 = 8000   # number of time points for data 2\n",
    "P = 100     # number of channels\n",
    "\n",
    "n_simulations = 1000 \n",
    "np.random.seed(0) "
   ]
  },
  {
   "cell_type": "code",
   "execution_count": 4,
   "metadata": {},
   "outputs": [],
   "source": [
    "# spatial structure \n",
    "sigma1 = 10 * np.random.randn(P, P) \n",
    "sigma1 = sigma1 ** 2 \n",
    "sigma1 = scipy.ndimage.gaussian_filter(sigma1, 2)\n",
    "sigma1 = (sigma1 + sigma1.T) / 2 \n",
    "M1 = np.real(scipy.linalg.sqrtm(sigma1))\n",
    "Y1 = np.random.randn(N1, P) @ M1\n",
    "\n",
    "sigma2 = 10 * np.random.randn(P, P) \n",
    "sigma2 = sigma2 ** 2 \n",
    "sigma2 = scipy.ndimage.gaussian_filter(sigma2, 2)\n",
    "sigma2 = (sigma2 + sigma2.T) / 2 \n",
    "M2 = np.real(scipy.linalg.sqrtm(sigma2))\n",
    "Y2 = np.random.randn(N2, P) @ M2 "
   ]
  },
  {
   "cell_type": "code",
   "execution_count": 5,
   "metadata": {},
   "outputs": [
    {
     "data": {
      "text/plain": [
       "0.31350621960577757"
      ]
     },
     "execution_count": 5,
     "metadata": {},
     "output_type": "execute_result"
    }
   ],
   "source": [
    "## corrs of simmat on the original time series \n",
    "# topo1 = sqmat2vec(np.corrcoef(Y1.T))\n",
    "# topo2 = sqmat2vec(np.corrcoef(Y2.T))\n",
    "topo1 = sqmat2vec(np.corrcoef((Y1 - Y1.mean(axis=0, keepdims=True)).T))\n",
    "topo2 = sqmat2vec(np.corrcoef((Y2 - Y2.mean(axis=0, keepdims=True)).T))\n",
    "\n",
    "corr_original_time_series = np.corrcoef([topo1, topo2])[0, 1]\n",
    "corr_original_time_series "
   ]
  },
  {
   "cell_type": "code",
   "execution_count": 6,
   "metadata": {},
   "outputs": [
    {
     "data": {
      "text/plain": [
       "array([0, 1, 3, 2, 4, 0, 2, 1, 4, 4])"
      ]
     },
     "execution_count": 6,
     "metadata": {},
     "output_type": "execute_result"
    }
   ],
   "source": [
    "a = np.random.choice(5, 10, True) \n",
    "a "
   ]
  },
  {
   "cell_type": "code",
   "execution_count": 7,
   "metadata": {},
   "outputs": [
    {
     "data": {
      "text/plain": [
       "array([[1., 0., 0., 0., 0., 1., 0., 0., 0., 0.],\n",
       "       [0., 1., 0., 0., 0., 0., 0., 1., 0., 0.],\n",
       "       [0., 0., 0., 1., 0., 0., 1., 0., 0., 0.],\n",
       "       [0., 0., 1., 0., 0., 0., 0., 0., 0., 0.],\n",
       "       [0., 0., 0., 0., 1., 0., 0., 0., 1., 1.]])"
      ]
     },
     "execution_count": 7,
     "metadata": {},
     "output_type": "execute_result"
    }
   ],
   "source": [
    "b = np.zeros((5, 10))\n",
    "b[a, np.arange(10)] = 1 \n",
    "b "
   ]
  },
  {
   "cell_type": "code",
   "execution_count": 8,
   "metadata": {},
   "outputs": [
    {
     "data": {
      "text/plain": [
       "array([[0.5       , 0.        , 0.        , 0.        , 0.        ,\n",
       "        0.5       , 0.        , 0.        , 0.        , 0.        ],\n",
       "       [0.        , 0.5       , 0.        , 0.        , 0.        ,\n",
       "        0.        , 0.        , 0.5       , 0.        , 0.        ],\n",
       "       [0.        , 0.        , 0.        , 0.5       , 0.        ,\n",
       "        0.        , 0.5       , 0.        , 0.        , 0.        ],\n",
       "       [0.        , 0.        , 1.        , 0.        , 0.        ,\n",
       "        0.        , 0.        , 0.        , 0.        , 0.        ],\n",
       "       [0.        , 0.        , 0.        , 0.        , 0.33333333,\n",
       "        0.        , 0.        , 0.        , 0.33333333, 0.33333333]])"
      ]
     },
     "execution_count": 8,
     "metadata": {},
     "output_type": "execute_result"
    }
   ],
   "source": [
    "np.divide(b, b.sum(axis=1, keepdims=True)) "
   ]
  },
  {
   "cell_type": "code",
   "execution_count": 9,
   "metadata": {},
   "outputs": [],
   "source": [
    "corrs_same_projections = []\n",
    "corrs_diff_projections = [] \n",
    "\n",
    "for simI in np.arange(n_simulations): \n",
    "    inds_Y1 = np.random.choice(K1, N1, True)\n",
    "    design_mat1 = np.zeros((K1, N1)) \n",
    "    design_mat1[inds_Y1, np.arange(N1)] = 1 \n",
    "    design_mat1 = np.divide(design_mat1, design_mat1.sum(axis=1, keepdims=True))\n",
    "\n",
    "    inds_Y2 = np.random.choice(K2, N2, True)\n",
    "    design_mat2 = np.zeros((K2, N2)) \n",
    "    design_mat2[inds_Y2, np.arange(N2)] = 1 \n",
    "    design_mat2 = np.divide(design_mat2, design_mat2.sum(axis=1, keepdims=True))\n",
    "\n",
    "    # same projects\n",
    "    y1 = design_mat1 @ Y1 \n",
    "    y2 = design_mat1 @ Y2 \n",
    "    \n",
    "    # topo1 = sqmat2vec(np.corrcoef(y1.T))\n",
    "    # topo2 = sqmat2vec(np.corrcoef(y2.T))\n",
    "    topo1 = sqmat2vec(np.corrcoef((y1 - y1.mean(axis=0, keepdims=True)).T))\n",
    "    topo2 = sqmat2vec(np.corrcoef((y2 - y2.mean(axis=0, keepdims=True)).T))\n",
    "\n",
    "    corrs_same_projections.append(np.corrcoef([topo1, topo2])[0, 1])\n",
    "\n",
    "    # diff projects\n",
    "    y1 = design_mat1 @ Y1 \n",
    "    y2 = design_mat2 @ Y2 \n",
    "    \n",
    "    # topo1 = sqmat2vec(np.corrcoef(y1.T))\n",
    "    # topo2 = sqmat2vec(np.corrcoef(y2.T))\n",
    "    topo1 = sqmat2vec(np.corrcoef((y1 - y1.mean(axis=0, keepdims=True)).T))\n",
    "    topo2 = sqmat2vec(np.corrcoef((y2 - y2.mean(axis=0, keepdims=True)).T))\n",
    "\n",
    "    corrs_diff_projections.append(np.corrcoef([topo1, topo2])[0, 1])"
   ]
  },
  {
   "cell_type": "code",
   "execution_count": 10,
   "metadata": {},
   "outputs": [],
   "source": [
    "results = {'same': corrs_same_projections,\n",
    "           'diff': corrs_diff_projections}"
   ]
  },
  {
   "cell_type": "code",
   "execution_count": 11,
   "metadata": {},
   "outputs": [
    {
     "data": {
      "text/plain": [
       "<Axes: >"
      ]
     },
     "execution_count": 11,
     "metadata": {},
     "output_type": "execute_result"
    },
    {
     "data": {
      "image/png": "[encoded data removed]",
      "text/plain": [
       "<Figure size 640x480 with 1 Axes>"
      ]
     },
     "metadata": {},
     "output_type": "display_data"
    }
   ],
   "source": [
    "sns.barplot(results, errorbar='se')"
   ]
  },
  {
   "cell_type": "code",
   "execution_count": 12,
   "metadata": {},
   "outputs": [
    {
     "data": {
      "text/plain": [
       "TtestResult(statistic=4.295778354580895, pvalue=1.8243301370383863e-05, df=1998.0)"
      ]
     },
     "execution_count": 12,
     "metadata": {},
     "output_type": "execute_result"
    }
   ],
   "source": [
    "scipy.stats.ttest_ind(corrs_same_projections, corrs_diff_projections, nan_policy='omit')  "
   ]
  },
  {
   "cell_type": "markdown",
   "metadata": {},
   "source": [
    "So - imagine you have raw time series data Y1, Y2 from 2 different tasks. You define a set of task conditions for each task and compute response profiles for each task. Then you compare the channel x channel response profile similarity matrix between tasks.\n",
    "\n",
    "When the number of conditions are the same for each task: whether you define the task conditions similarly or differently, the resulting similarities in topography are indistinguishable. \n",
    "\n",
    "When the number of conditions are different: there might be a significant difference in the similarity of topography, mostly when the difference in # conditions is huge.  "
   ]
  },
  {
   "cell_type": "code",
   "execution_count": 13,
   "metadata": {},
   "outputs": [
    {
     "data": {
      "text/plain": [
       "TtestResult(statistic=-45.046492090240555, pvalue=8.337050301536749e-243, df=999)"
      ]
     },
     "execution_count": 13,
     "metadata": {},
     "output_type": "execute_result"
    }
   ],
   "source": [
    "scipy.stats.ttest_1samp(corrs_diff_projections, corr_original_time_series, nan_policy='omit') "
   ]
  },
  {
   "cell_type": "code",
   "execution_count": null,
   "metadata": {},
   "outputs": [],
   "source": []
  },
  {
   "cell_type": "code",
   "execution_count": 14,
   "metadata": {},
   "outputs": [
    {
     "data": {
      "text/plain": [
       "35.94878728264789"
      ]
     },
     "execution_count": 14,
     "metadata": {},
     "output_type": "execute_result"
    }
   ],
   "source": [
    "np.log(N1) / 0.5**2 "
   ]
  },
  {
   "cell_type": "code",
   "execution_count": null,
   "metadata": {},
   "outputs": [],
   "source": []
  }
 ],
 "metadata": {
  "kernelspec": {
   "display_name": "tcompo",
   "language": "python",
   "name": "python3"
  },
  "language_info": {
   "codemirror_mode": {
    "name": "ipython",
    "version": 3
   },
   "file_extension": ".py",
   "mimetype": "text/x-python",
   "name": "python",
   "nbconvert_exporter": "python",
   "pygments_lexer": "ipython3",
   "version": "3.9.19"
  }
 },
 "nbformat": 4,
 "nbformat_minor": 2
}
